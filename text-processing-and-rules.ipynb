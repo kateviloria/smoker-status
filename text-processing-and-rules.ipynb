{
 "cells": [
  {
   "cell_type": "code",
   "execution_count": 5,
   "id": "25c9dd3c",
   "metadata": {
    "scrolled": true
   },
   "outputs": [],
   "source": [
    "# testing text processing and possible rules to implement\n",
    "\n",
    "import pandas as pd\n",
    "import nltk \n",
    "from nltk import tokenize #, word_tokenize\n",
    "from nltk.corpus import stopwords\n",
    "# from spacy.morphology import Morphology\n",
    "# import spacy\n",
    "# nlp = spacy.load(\"en_core_web_sm\")\n",
    "\n",
    "# nlp = spacy.load(\"en_core_web_sm\")\n",
    "# from nltk.parse.stanford import StanfordParser\n",
    "# from pycorenlp import StanfordCoreNLP\n"
   ]
  },
  {
   "cell_type": "code",
   "execution_count": 2,
   "id": "0346b78f",
   "metadata": {},
   "outputs": [],
   "source": [
    "# data will be a list of strings from dataframe\n",
    "smoker_data_df = pd.read_csv('smoker_status.csv')\n",
    "\n",
    "identifiers = smoker_data_df['row_id'].to_list()\n",
    "statuses = smoker_data_df['status'].to_list()\n",
    "med_notes = smoker_data_df['text'].to_list()\n",
    "\n",
    "assert len(identifiers) == len(statuses) == len(med_notes), 'Three cols not the same lengths.'"
   ]
  },
  {
   "cell_type": "code",
   "execution_count": 6,
   "id": "b3af8d97",
   "metadata": {},
   "outputs": [
    {
     "name": "stdout",
     "output_type": "stream",
     "text": [
      "[[34464, 'Smoker', \"Past Medical History: current smoker  Social History: married current smoker >10cigrettes/day current ETOH use,heavy per patient's family  Family History: + father and brother died of myocardial infraction  Physical Exam: Vitals:97.9-63-19\"]]\n",
      "--------------\n",
      "sentence split\n",
      "[\"Past Medical History: current smoker  Social History: married current smoker >10cigrettes/day current ETOH use,heavy per patient's family  Family History: + father and brother died of myocardial infraction  Physical Exam: Vitals:97.9-63-19\"]\n"
     ]
    }
   ],
   "source": [
    "# split into sentences test\n",
    "test_row = smoker_data_df.iloc[[30]].values.tolist()\n",
    "test_sent = test_row[0][2]\n",
    "print(test_row)\n",
    "\n",
    "# split into sentences\n",
    "split_sent = tokenize.sent_tokenize(test_sent)\n",
    "print('--------------')\n",
    "print('sentence split')\n",
    "print(split_sent)\n",
    "# not effective for most of medical notes, returns full sentences"
   ]
  },
  {
   "cell_type": "code",
   "execution_count": 7,
   "id": "8ab9a20b",
   "metadata": {},
   "outputs": [
    {
     "name": "stdout",
     "output_type": "stream",
     "text": [
      "['Past', 'Medical', 'History', ':', 'current', 'smoker', 'Social', 'History', ':', 'married', 'current', 'smoker', '>', '10cigrettes/day', 'current', 'ETOH', 'use', ',', 'heavy', 'per', 'patient', \"'s\", 'family', 'Family', 'History', ':', '+', 'father', 'and', 'brother', 'died', 'of', 'myocardial', 'infraction', 'Physical', 'Exam', ':', 'Vitals:97.9-63-19']\n"
     ]
    }
   ],
   "source": [
    "# split into words test (most effective would have been sentences then words)\n",
    "wordtok_sent = nltk.word_tokenize(test_sent)\n",
    "print(wordtok_sent)"
   ]
  },
  {
   "cell_type": "code",
   "execution_count": 8,
   "id": "6729c101",
   "metadata": {},
   "outputs": [],
   "source": [
    "# split all sentences into words\n",
    "split_words = [nltk.word_tokenize(every_text)for every_text in med_notes]"
   ]
  },
  {
   "cell_type": "code",
   "execution_count": 9,
   "id": "d3ba3514",
   "metadata": {},
   "outputs": [
    {
     "data": {
      "text/plain": [
       "[22]"
      ]
     },
     "execution_count": 9,
     "metadata": {},
     "output_type": "execute_result"
    }
   ],
   "source": [
    "# create baseline\n",
    "    \n",
    "# if words not related to smoking does not appear, label as unknown ==> F1\n",
    "smoke_words = ['smoke', \n",
    "               'smoker', \n",
    "               'smoking', 'Smoking',\n",
    "               'smokes',\n",
    "               'smoked', 'Smoked', \n",
    "               'ppd', # maybe not needed\n",
    "               'nonsmoker', 'Nonsmoker',]\n",
    "                # useful words to add: 'tob', 'tobacco', 'cigs', 'cigarettes'\n",
    "\n",
    "\n",
    "# all sentences should be okay for this dataset\n",
    "def baseline(all_sents):\n",
    "    \n",
    "    to_label_unknown = []\n",
    "    \n",
    "    for every_sentence_idx in range(len(all_sents)):\n",
    "        \n",
    "        word_list = all_sents[every_sentence_idx]\n",
    "        \n",
    "        # check if any of the smoke_words appear in each sentence\n",
    "        if any([every_smoke_word in word_list for every_smoke_word in smoke_words]) == False:\n",
    "            \n",
    "            to_label_unknown.append(every_sentence_idx)\n",
    "    \n",
    "    return to_label_unknown\n",
    "    \n",
    "#     return to_unknown\n",
    "\n",
    "baseline(split_words)\n",
    "    \n",
    "    "
   ]
  },
  {
   "cell_type": "code",
   "execution_count": 101,
   "id": "cc0960c0",
   "metadata": {},
   "outputs": [
    {
     "data": {
      "text/plain": [
       "[65, 37, 38, 15, 16, 55, 27]"
      ]
     },
     "execution_count": 101,
     "metadata": {},
     "output_type": "execute_result"
    }
   ],
   "source": [
    "# next state, nonsmoker\n",
    "    # labels have 'nonsmoker' or 'Nonsmoker'\n",
    "    # or negation, POS?\n",
    "\n",
    "# all_sents = after baseline\n",
    "def find_nonsmokers(all_sents):\n",
    "    \n",
    "    nonsmoker_words = ['nonsmoker', 'Nonsmoker']\n",
    "    \n",
    "    to_label_nonsmoker = []\n",
    "    \n",
    "    for every_sentence_idx in range(len(all_sents)):\n",
    "        \n",
    "        word_list = all_sents[every_sentence_idx]\n",
    "        \n",
    "        # check if any of nonsmoker_words appear in each sentence\n",
    "        if any([every_word in word_list for every_word in nonsmoker_words]) == True:\n",
    "            \n",
    "            to_label_nonsmoker.append(every_sentence_idx)\n",
    "        \n",
    "        \n",
    "        # check if text includes 'does not smoke', 'no h/o smoking', 'does not drink, smoke, or do any drugs'\n",
    "            # relies on text only having 'smoker' appear once\n",
    "            \n",
    "        # 'no h/o smoking'\n",
    "        if word_list.count('smoking') == 1:\n",
    "            \n",
    "            #if 'smoking' in word_list:\n",
    "\n",
    "            smoking_idx = word_list.index('smoking')\n",
    "            ho_idx = smoking_idx - 1\n",
    "            no_idx = smoking_idx - 2\n",
    "\n",
    "            # 'no', 'h/o', 'smoking' must appear in exact order in word list\n",
    "            if word_list[ho_idx] == 'h/o' and word_list[no_idx] == 'no':\n",
    "\n",
    "                to_label_nonsmoker.append(every_sentence_idx)\n",
    "                #print(word_list)\n",
    "        \n",
    "        # 'does not smoke'\n",
    "        if word_list.count('smoke') == 1:\n",
    "            \n",
    "            #if 'smoke' in word_list:\n",
    "            smoke_idx = word_list.index('smoke')\n",
    "            not_idx = smoke_idx - 1 \n",
    "            does_idx = smoke_idx - 2\n",
    "\n",
    "            if word_list[not_idx] == 'not' and word_list[does_idx] == 'does':\n",
    "\n",
    "                to_label_nonsmoker.append(every_sentence_idx)\n",
    "        \n",
    "        \n",
    "#     print('done all sents')\n",
    "#     print(to_label_nonsmoker)\n",
    "    # make sure there are no double indices   \n",
    "    unique_labels_nonsmoker = list(set(to_label_nonsmoker))\n",
    "\n",
    "    return unique_labels_nonsmoker\n",
    "\n",
    "\n",
    "find_nonsmokers(split_words)     \n",
    "# [15, 16, 27, 37, 38, 55, 65]\n",
    "# [65, 37, 38, 15, 16, 55, 27]"
   ]
  },
  {
   "cell_type": "code",
   "execution_count": 102,
   "id": "761d68b5",
   "metadata": {},
   "outputs": [
    {
     "data": {
      "text/plain": [
       "[0, 4, 17, 28, 32, 34, 59, 61, 67]"
      ]
     },
     "execution_count": 102,
     "metadata": {},
     "output_type": "execute_result"
    }
   ],
   "source": [
    "# next state, unknown labels in data all have 'with a smoker in the household'\n",
    "    # too specific, should have another check in case it has other?\n",
    "\n",
    "def smoker_in_household(all_sents):\n",
    "    \n",
    "    to_label_unknown = []\n",
    "    \n",
    "    for every_sentence_idx in range(len(all_sents)):\n",
    "        \n",
    "        word_list = all_sents[every_sentence_idx]\n",
    "        \n",
    "        # check if 'smoker in the household' is in sentence\n",
    "            # relies on text only having 'smoker' appear once\n",
    "            # no other chances of 'smoke-related' info to be mentioned\n",
    "        if word_list.count('smoker') == 1:\n",
    "            \n",
    "            #if 'smoker' in word_list:\n",
    "\n",
    "            smoker_idx = word_list.index('smoker')\n",
    "            in_idx = smoker_idx + 1\n",
    "            the_idx = smoker_idx + 2\n",
    "            household_idx = smoker_idx + 3\n",
    "\n",
    "            # 'smoker', 'in', 'the', 'household' must appear in exact order in word list\n",
    "            if word_list[in_idx] == 'in' and word_list[the_idx] == 'the' and word_list[household_idx] == 'household':\n",
    "                to_label_unknown.append(every_sentence_idx)\n",
    "\n",
    "            \n",
    "#     print('done sents')\n",
    "#     print(to_label_unknown)\n",
    "    return to_label_unknown\n",
    "        \n",
    "smoker_in_household(split_words)\n",
    "# [0, 4, 17, 28, 32, 34, 59, 61, 67]"
   ]
  },
  {
   "cell_type": "code",
   "execution_count": 12,
   "id": "82e91798",
   "metadata": {},
   "outputs": [],
   "source": [
    "# after smoker words inside word_list\n",
    "\n",
    "# check suffixes of words in sentences that have not been labelled as unknown\n",
    "    # --> should diverge to Smoker and Former Smoker labels\n",
    "\n"
   ]
  },
  {
   "cell_type": "code",
   "execution_count": 103,
   "id": "aa1f6bd2",
   "metadata": {},
   "outputs": [
    {
     "data": {
      "text/plain": [
       "[1, 2, 3, 35, 12, 47, 49, 18, 19, 23, 60]"
      ]
     },
     "execution_count": 103,
     "metadata": {},
     "output_type": "execute_result"
    }
   ],
   "source": [
    "# find former smokers\n",
    "\n",
    "# med_notes are not split into words\n",
    "\n",
    "act_of_smoking = ['smoking', 'cigarettes', 'tobacco', 'tob']\n",
    "smoked_NN = ['cigarette', 'cigarettes', 'cigs', 'tobacco', 'tob', 'packs', 'pack'] # unsure if packs should be included\n",
    "temporal_words = ['years', 'yrs', 'months', 'weeks', 'wks', 'days'] # maybe change to time units (there are other temporal words)\n",
    "approximate_words = ['under', 'over', 'around', 'approx', 'approximately','about']\n",
    "\n",
    "\n",
    "def find_former_smokers(all_sents):\n",
    "    \n",
    "    to_label_formersmoker = []\n",
    "    \n",
    "    for every_sentence_idx in range(len(all_sents)):\n",
    "        \n",
    "        word_list = all_sents[every_sentence_idx]\n",
    "\n",
    "        pos_tagged = nltk.pos_tag(word_list)\n",
    "#         print('word list')\n",
    "#         print(word_list)\n",
    "        \n",
    "#         print('pos-tagged')\n",
    "#         print(pos_tagged)\n",
    "        \n",
    "        # should i be using elif?\n",
    "        \n",
    "        if word_list.count('quit') == 1 or word_list.count('Quit') == 1:\n",
    "            \n",
    "            # lowercase 'quit', easier to index both since they would follow the same patterns, just appear differently sometimes\n",
    "            lowercase_quit = [every_word.lower() if every_word == 'Quit' else every_word for every_word in word_list]\n",
    "#             print(lowercase_quit)\n",
    "            \n",
    "            quit_idx = lowercase_quit.index('quit')\n",
    "            after_quit_idx = quit_idx + 1\n",
    "\n",
    "\n",
    "            # check if 'quit ACT_OF_SMOKING_WORD A_NUMBER TEMPORAL_WORD ago'\n",
    "            if word_list[after_quit_idx] in act_of_smoking and pos_tagged[after_quit_idx + 1][1] == 'CD' and word_list[after_quit_idx + 2] in temporal_words and word_list[after_quit_idx + 3] == 'ago':\n",
    "\n",
    "#                 print('quit smoking # time ago')\n",
    "#                 print(word_list)\n",
    "                to_label_formersmoker.append(every_sentence_idx)\n",
    "            \n",
    "            # takes into account 'quit smoking X A_NUMBER TEMPORAL_WORD ago' X = over, around, under\n",
    "            if word_list[after_quit_idx] == 'smoking' and word_list[after_quit_idx + 1] in approximate_words and pos_tagged[after_quit_idx + 2][1] == 'CD' and word_list[after_quit_idx + 3] in temporal_words and word_list[after_quit_idx + 4] == 'ago':\n",
    "#                 print('quit smoking X A_NUMBER TEMPORAL_WORD ago')\n",
    "#                 print(word_list)\n",
    "                to_label_formersmoker.append(every_sentence_idx)\n",
    "                \n",
    "                \n",
    "            # might indicate that quit something other than smoking\n",
    "            if pos_tagged[after_quit_idx][1] == 'CD' and word_list[after_quit_idx + 1] in temporal_words and word_list[after_quit_idx + 2] == 'ago':\n",
    "#                 print('quit # time ago')\n",
    "#                 print(word_list)\n",
    "                to_label_formersmoker.append(every_sentence_idx)\n",
    "        \n",
    "        # search 'former smoker'\n",
    "        if word_list.count('smoker') == 1:\n",
    "            smoker_idx = word_list.index('smoker')\n",
    "            before_smoker_idx = smoker_idx - 1\n",
    "            \n",
    "            # allows 'former' and 'Former'\n",
    "            if word_list[before_smoker_idx].lower() == 'former':\n",
    "                \n",
    "                # some texts have both 'quit smoking X years ago' AND 'former smoker'\n",
    "                if every_sentence_idx not in to_label_formersmoker:\n",
    "                    to_label_formersmoker.append(every_sentence_idx)\n",
    "\n",
    "#     print('done sentences')\n",
    "#     print(to_label_formersmoker)\n",
    "    # dont forget return statement\n",
    "    \n",
    "    # make sure there are no double indices   \n",
    "    unique_labels_former_smoker = list(set(to_label_formersmoker))\n",
    "\n",
    "    return unique_labels_former_smoker\n",
    "\n",
    "find_former_smokers(split_words)\n",
    "# recent \n",
    "# [1, 2, 3, 12, 18, 19, 23, 35, 47, 49, 60]\n",
    "# [2, 11, 36, 43, 58]"
   ]
  },
  {
   "cell_type": "code",
   "execution_count": 104,
   "id": "4a83806b",
   "metadata": {
    "scrolled": false
   },
   "outputs": [
    {
     "name": "stdout",
     "output_type": "stream",
     "text": [
      "smoked quit\n",
      "['She', 'smoked', 'two', 'packs', 'per', 'day', 'for', '40', 'years', 'and', 'quit', 'four', 'years', 'ago', '.']\n",
      "smoked quit\n",
      "['hernia', 'repair', 'Social', 'History', ':', 'retired', 'window', 'maker', 'quit', 'smoking', '*', '*', '2106', '*', '*', ';', 'smoked', '2.5', 'ppd', 'for', '10', 'years', 'no', 'ETOH', 'lives', 'with', 'wife', 'Family', 'History', ':', 'no', 'premature', 'CAD', 'Physical', 'Exam', ':', 'PERRLA', ',', 'EOMI', ',', 'right', 'eye', 'with', 'baseline', 'congenital', 'drift', 'alert', 'and', 'oriented', 'x3', ',', 'MAE', '*', '*', '3-28', '*', '*', 'strengths', ',', 'steady', 'gait', 'RRR', ',', 'crisp', 'valve', 'click', ',', '?', 'murmur', 'CTAB', 'soft', ',', 'NT', ',', 'ND', ',', 'obese', 'abd', ',', 'no', 'palpable', 'masses', ',', '+', 'BS', 'extrems', 'warm', 'with', 'bil', 'LE', 'varicosities', 'no', 'carotid', 'bruits', '2+', 'bil', '.']\n",
      "smoked quit\n",
      "['He', 'smoked', 'a', 'pack', 'a', 'day', 'for', '40', 'years', 'and', 'quit', 'in', '*', '*', '2123', '*', '*', '.']\n",
      "smoked quit\n",
      "['Smoked', 'about', '0.5-1', 'packs', 'per', 'week', ',', 'quit', 'in', '*', '*', '12-6', '*', '*', '.']\n"
     ]
    },
    {
     "data": {
      "text/plain": [
       "[2, 36, 43, 11, 58]"
      ]
     },
     "execution_count": 104,
     "metadata": {},
     "output_type": "execute_result"
    }
   ],
   "source": [
    "# find former smoker\n",
    "def smoked_past(all_sents):\n",
    "    \n",
    "    to_label_formersmoker = []\n",
    "    \n",
    "    for every_sentence_idx in range(len(all_sents)):\n",
    "        \n",
    "        word_list = all_sents[every_sentence_idx]\n",
    "\n",
    "        pos_tagged = nltk.pos_tag(word_list)\n",
    "    \n",
    "            # 'smoked X '\n",
    "        if word_list.count('smoked') == 1 or word_list.count('Smoked') == 1:\n",
    "            \n",
    "            # lowercase 'smoked', easier to index both since they would follow the same patterns, just appear differently sometimes\n",
    "            lowercase_smoked = [every_word.lower() if every_word == 'Smoked' else every_word for every_word in word_list]\n",
    "            \n",
    "            smoked_idx = lowercase_smoked.index('smoked')\n",
    "            after_smoked_idx = smoked_idx + 1\n",
    "            \n",
    "#             print('has smoked')\n",
    "#             print(word_list)\n",
    "\n",
    "            # smoked cigarettes for 60 years \n",
    "            # (added for 60 years because 'smoked' can appear in (current) Smoker as well, establishes time has passed)\n",
    "            if word_list[after_smoked_idx] in smoked_NN and word_list[after_smoked_idx + 1] == 'for' and pos_tagged[after_smoked_idx + 2][1] == 'CD'and word_list[after_smoked_idx + 3] in temporal_words:\n",
    "                \n",
    "#                 print('smoked NN for CD TEMP WORD')\n",
    "#                 print(word_list)\n",
    "                to_label_formersmoker.append(every_sentence_idx)\n",
    "            \n",
    "            # both smoke and quit have to be in text (can lead to false positives if multiple drugs are mentioned)\n",
    "            if word_list.count('quit') == 1:\n",
    "            \n",
    "                print('smoked quit')\n",
    "                print(word_list)\n",
    "                to_label_formersmoker.append(every_sentence_idx)\n",
    "            \n",
    "            # smoked two packs per day\n",
    "            # smoked about 0.5-1 packs per week\n",
    "            # smoked 2.5 ppd\n",
    "                # smoked 2ppd\n",
    "            # smoked a pack a day\n",
    "            \n",
    "            \n",
    "#     print(to_label_formersmoker)\n",
    "\n",
    "    # make sure there are no double indices   \n",
    "    unique_labels_former_smoker = list(set(to_label_formersmoker))\n",
    "\n",
    "    return unique_labels_former_smoker \n",
    "smoked_past(split_words)\n",
    "# [2, 11, 36, 43, 58]\n"
   ]
  },
  {
   "cell_type": "code",
   "execution_count": 42,
   "id": "d5ee8137",
   "metadata": {},
   "outputs": [],
   "source": [
    "# # might be better for Smoker\n",
    "#             # smoked for approx. seven years\n",
    "#             if word_list[after_smoked_idx] == 'for' : #and word_list[after_smoked_idx + 1] == 'for' and pos_tagged[after_smoked_idx + 2][1] == 'CD'and word_list[after_smoked_idx + 3] in temporal_words:\n",
    "#                 print('smoked for')\n",
    "#                 print(word_list)"
   ]
  },
  {
   "cell_type": "code",
   "execution_count": 105,
   "id": "6b57ed7f",
   "metadata": {},
   "outputs": [
    {
     "data": {
      "text/plain": [
       "[8, 41, 14, 20, 21, 52, 62, 30]"
      ]
     },
     "execution_count": 105,
     "metadata": {},
     "output_type": "execute_result"
    }
   ],
   "source": [
    "# find (current) smokers\n",
    "current_words = ['current', 'Current', 'currently', 'Currently', 'active', 'Active', 'actively', 'Actively', 'still', 'Still', 'reports', 'Reports']\n",
    "smoking_present = ['smoking', 'smokes', 'smoke']\n",
    "\n",
    "def find_current_smokers(all_sents):\n",
    "    \n",
    "    to_label_smoker = []\n",
    "    \n",
    "    for every_sentence_idx in range(len(all_sents)):\n",
    "        \n",
    "        word_list = all_sents[every_sentence_idx]\n",
    "\n",
    "        pos_tagged = nltk.pos_tag(word_list)\n",
    "        \n",
    "        # 'CURRENT_WORD smoker'\n",
    "        if 'smoker' in word_list or 'Smoker' in word_list:\n",
    "\n",
    "            lowercase_smoker = [every_word.lower() if every_word == 'Smoker' else every_word for every_word in word_list]\n",
    "\n",
    "            smoker_idx = lowercase_smoker.index('smoker')\n",
    "                \n",
    "            smoker_idx = word_list.index('smoker')\n",
    "            before_smoker_idx = smoker_idx - 1\n",
    "            \n",
    "            if word_list[before_smoker_idx] in current_words:\n",
    "                to_label_smoker.append(every_sentence_idx)\n",
    "        \n",
    "        # 'CURRENT_WORD smoking'\n",
    "        if 'smoking' in word_list:\n",
    "            smoking_idx = word_list.index('smoking')\n",
    "            \n",
    "            before_smoking_idx = smoking_idx - 1\n",
    "            \n",
    "            if word_list[before_smoking_idx] in current_words:\n",
    "                to_label_smoker.append(every_sentence_idx)\n",
    "                \n",
    "            # 'due to smoking'\n",
    "            if word_list[before_smoking_idx] == 'to' and word_list[before_smoking_idx - 1] == 'due':\n",
    "                to_label_smoker.append(every_sentence_idx)\n",
    "            \n",
    "        # 'smokes/smoking X ppd'\n",
    "            # would capture 14238 and 19217 if no asterisks wrapped around numbers\n",
    "        if 'ppd' in word_list:\n",
    "            ppd_idx = word_list.index('ppd')\n",
    "            before_ppd_idx = ppd_idx - 1 \n",
    "            \n",
    "            if pos_tagged[before_ppd_idx][1] == 'CD' and word_list[before_ppd_idx - 1] in smoking_present:\n",
    "                \n",
    "                to_label_smoker.append(every_sentence_idx)\n",
    "                \n",
    "        # find XPPD\n",
    "            # will not find any cases in dataset, but thought would be useful\n",
    "        if [True for every_word in word_list if every_word.endswith(\"PPD\")] == [True]:\n",
    "#             print(word_list)\n",
    "            \n",
    "            # check if split its CD and NN\n",
    "            word_PPD = [every_word for every_word in word_list if every_word.endswith('PPD')]\n",
    "#             print(word_PPD)\n",
    "            ppd_idx = word_list.index(word_PPD[0])\n",
    "            ppd_original = word_list[ppd_idx]\n",
    "            \n",
    "            # slicing string to make sure it's not just a word ending in PPD \n",
    "            ppd = ppd_original[-3:] # PPD in string\n",
    "            before_ppd = ppd_original[:-3] # whatever comes before PPD\n",
    "            \n",
    "            new_ppd = [before_ppd, ppd] # list of strings to pos-tag\n",
    "            postagged_new_ppd = nltk.pos_tag(new_ppd) # list of tuples [(word, POS), (word, POS)]\n",
    "            \n",
    "            # check if POS-tags are correct\n",
    "            if postagged_new_ppd[0][1] == 'CD' and postagged_new_ppd[1][1] == 'NN':\n",
    "                \n",
    "                if word_list[ppd_idx - 1] in smoking_present:\n",
    "                    to_label_smoker.append(every_sentence_idx)\n",
    "            \n",
    "            \n",
    "            \n",
    "\n",
    "#     print(to_label_smoker)\n",
    "    # use set before return \n",
    "    # return statement\n",
    "    \n",
    "    # make sure there are no double indices   \n",
    "    unique_labels_smoker = list(set(to_label_smoker))\n",
    "\n",
    "    return unique_labels_smoker\n",
    "    \n",
    "find_current_smokers(split_words)\n",
    "# [8, 8, 14, 20, 30, 41, 52, 62]\n",
    "# [8, 8, 14, 20, 21, 30, 41, 41, 52, 62] recent\n",
    "# with set [8, 41, 14, 20, 21, 52, 62, 30]\n",
    "        "
   ]
  },
  {
   "cell_type": "code",
   "execution_count": 70,
   "id": "38329757",
   "metadata": {},
   "outputs": [
    {
     "data": {
      "text/plain": [
       "[('Past', 'NNP'),\n",
       " ('Medical', 'NNP'),\n",
       " ('History', 'NN'),\n",
       " (':', ':'),\n",
       " ('hypertension', 'NN'),\n",
       " ('hypercholesterolemia', 'NN'),\n",
       " ('smoking', 'VBG'),\n",
       " ('basal', 'NN'),\n",
       " ('cell', 'NN'),\n",
       " ('skin', 'NN'),\n",
       " ('cancer', 'NN'),\n",
       " ('(', '('),\n",
       " ('s/p', 'JJ'),\n",
       " ('excision', 'NN'),\n",
       " (')', ')'),\n",
       " ('Social', 'NNP'),\n",
       " ('History', 'NNP'),\n",
       " (':', ':'),\n",
       " ('smokes', 'NNS'),\n",
       " ('1', 'CD'),\n",
       " ('ppd', 'NN'),\n",
       " ('x', '$'),\n",
       " ('30', 'CD'),\n",
       " ('years', 'NNS'),\n",
       " ('drinks', 'VBZ'),\n",
       " ('18', 'CD'),\n",
       " ('beers/wk', 'NN'),\n",
       " ('over', 'IN'),\n",
       " ('the', 'DT'),\n",
       " ('weekend', 'NN'),\n",
       " ('Denies', 'VBZ'),\n",
       " ('drug', 'NN'),\n",
       " ('use', 'NN'),\n",
       " ('works', 'VBZ'),\n",
       " ('as', 'IN'),\n",
       " ('probation', 'NN'),\n",
       " ('officer', 'NN'),\n",
       " ('Family', 'NNP'),\n",
       " ('History', 'NNP'),\n",
       " (':', ':'),\n",
       " ('Father', 'NN'),\n",
       " ('had', 'VBD'),\n",
       " ('MI', 'NNP'),\n",
       " ('and', 'CC'),\n",
       " ('quadruple', 'JJ'),\n",
       " ('bypass', 'NN'),\n",
       " ('surgery', 'NN'),\n",
       " ('at', 'IN'),\n",
       " ('age', 'NN'),\n",
       " ('of', 'IN'),\n",
       " ('63', 'CD'),\n",
       " ('Physical', 'JJ'),\n",
       " ('Exam', 'NN'),\n",
       " (':', ':'),\n",
       " ('VS', 'NN'),\n",
       " (':', ':'),\n",
       " ('afebrile', 'NN'),\n",
       " (',', ','),\n",
       " ('p67', 'NN'),\n",
       " (',', ','),\n",
       " ('132/82', 'CD'),\n",
       " (',', ','),\n",
       " ('rr15', 'NN'),\n",
       " (',', ','),\n",
       " ('94', 'CD'),\n",
       " ('%', 'NN'),\n",
       " ('RA', 'NNP'),\n",
       " ('Gen', 'NNP'),\n",
       " (':', ':'),\n",
       " ('NAD', 'NNP'),\n",
       " (',', ','),\n",
       " ('lying', 'VBG'),\n",
       " ('flat', 'JJ'),\n",
       " ('on', 'IN'),\n",
       " ('back', 'JJ'),\n",
       " ('HEENT', 'NNP'),\n",
       " (':', ':'),\n",
       " ('PERRL', 'NNP'),\n",
       " (',', ','),\n",
       " ('EOMI', 'NNP'),\n",
       " (',', ','),\n",
       " ('clear', 'JJ'),\n",
       " ('OP', 'NNP'),\n",
       " (',', ','),\n",
       " ('MMM', 'NNP'),\n",
       " ('Neck', 'NNP'),\n",
       " (':', ':'),\n",
       " ('unable', 'JJ'),\n",
       " ('to', 'TO'),\n",
       " ('assess', 'VB'),\n",
       " ('JVP', 'NNP'),\n",
       " ('CVS', 'NNP'),\n",
       " (':', ':'),\n",
       " ('RRR', 'NNP'),\n",
       " (',', ','),\n",
       " ('nl', 'JJ'),\n",
       " ('s1', 'NN'),\n",
       " ('s2', 'NN'),\n",
       " (',', ','),\n",
       " ('no', 'DT'),\n",
       " ('m/g/r', 'JJ'),\n",
       " ('Lungs', 'NNS'),\n",
       " (':', ':'),\n",
       " ('CTAB', 'NNP'),\n",
       " (',', ','),\n",
       " ('no', 'DT'),\n",
       " ('c/w/r', 'NN'),\n",
       " ('Abd', 'NNP'),\n",
       " (':', ':'),\n",
       " ('soft', 'JJ'),\n",
       " (',', ','),\n",
       " ('NT', 'NNP'),\n",
       " (',', ','),\n",
       " ('ND', 'NNP'),\n",
       " (',', ','),\n",
       " ('+BS', 'NNP'),\n",
       " ('Groin', 'NNP'),\n",
       " (':', ':'),\n",
       " ('no', 'DT'),\n",
       " ('hematoma', 'NN'),\n",
       " ('or', 'CC'),\n",
       " ('bruit', 'NN'),\n",
       " ('Ext', 'NNS'),\n",
       " (':', ':'),\n",
       " ('no', 'DT'),\n",
       " ('edema', 'NN'),\n",
       " ('bilaterally', 'RB'),\n",
       " (',', ','),\n",
       " ('2+DP', 'CD'),\n",
       " ('bilaterally', 'RB'),\n",
       " ('Pertinent', 'JJ'),\n",
       " ('Results', 'NNS'),\n",
       " (':', ':'),\n",
       " ('*', 'JJ'),\n",
       " ('*', 'JJ'),\n",
       " ('2147-11-29', 'JJ'),\n",
       " ('*', 'NN'),\n",
       " ('*', 'VBD'),\n",
       " ('09:00PM', 'CD'),\n",
       " ('GLUCOSE-127', 'NNP'),\n",
       " ('*', 'NNP'),\n",
       " ('UREA', 'NNP'),\n",
       " ('N-25', 'NNP'),\n",
       " ('*', 'NNP'),\n",
       " ('CREAT-1.0', 'NNP'),\n",
       " ('POTASSIUM-3.7', 'NNP'),\n",
       " ('CHLORIDE-98', 'NNP'),\n",
       " ('*', 'NNP'),\n",
       " ('*', 'NNP'),\n",
       " ('2147-11-29', 'JJ'),\n",
       " ('*', 'NNP'),\n",
       " ('*', '$'),\n",
       " ('09:03PM', 'CD'),\n",
       " ('K+-4.3', 'NNP'),\n",
       " ('*', 'NNP'),\n",
       " ('*', 'NNP'),\n",
       " ('2147-11-29', 'JJ'),\n",
       " ('*', 'NNP'),\n",
       " ('*', '$'),\n",
       " ('09:03PM', 'CD'),\n",
       " ('TYPE-ART', 'JJ'),\n",
       " ('PO2-114', 'JJ'),\n",
       " ('*', 'JJ'),\n",
       " ('PCO2-49', 'NNP'),\n",
       " ('*', 'NNP'),\n",
       " ('PH-7.32', 'NNP'),\n",
       " ('*', 'NN')]"
      ]
     },
     "execution_count": 70,
     "metadata": {},
     "output_type": "execute_result"
    }
   ],
   "source": [
    "nltk.pos_tag(split_words[20])"
   ]
  },
  {
   "cell_type": "code",
   "execution_count": 66,
   "id": "c09b1c3c",
   "metadata": {},
   "outputs": [
    {
     "data": {
      "text/plain": [
       "['She', 'reports', 'smoking', '2PPD', 'x', '60', 'years', '.']"
      ]
     },
     "execution_count": 66,
     "metadata": {},
     "output_type": "execute_result"
    }
   ],
   "source": [
    "split_words[41]"
   ]
  },
  {
   "cell_type": "code",
   "execution_count": 68,
   "id": "e46a0278",
   "metadata": {},
   "outputs": [
    {
     "data": {
      "text/plain": [
       "[True]"
      ]
     },
     "execution_count": 68,
     "metadata": {},
     "output_type": "execute_result"
    }
   ],
   "source": [
    "[True for every_word in split_words[41] if every_word.endswith(\"PPD\")]"
   ]
  },
  {
   "cell_type": "code",
   "execution_count": 73,
   "id": "88bb1225",
   "metadata": {},
   "outputs": [
    {
     "data": {
      "text/plain": [
       "[('He', 'PRP'),\n",
       " ('quit', 'VBD'),\n",
       " ('smoking', 'VBG'),\n",
       " ('around', 'IN'),\n",
       " ('15-29', 'CD'),\n",
       " ('years', 'NNS'),\n",
       " ('ago', 'RB'),\n",
       " ('.', '.')]"
      ]
     },
     "execution_count": 73,
     "metadata": {},
     "output_type": "execute_result"
    }
   ],
   "source": [
    "nltk.pos_tag(['He', 'quit', 'smoking', 'around', '15-29', 'years', 'ago', '.'])"
   ]
  },
  {
   "cell_type": "code",
   "execution_count": 35,
   "id": "57f18fb8",
   "metadata": {},
   "outputs": [],
   "source": [
    "# stopwords\n",
    "\n",
    "# en_stop_words = stopwords.words('english')\n",
    "# en_stop_words"
   ]
  },
  {
   "cell_type": "code",
   "execution_count": 97,
   "id": "c06e6d70",
   "metadata": {},
   "outputs": [
    {
     "name": "stdout",
     "output_type": "stream",
     "text": [
      "[3, 4, 5, 6, 7, 89]\n",
      "<class 'set'>\n"
     ]
    }
   ],
   "source": [
    "# will have to compare if indices appear twice in the \"to_label_x\" lists\n",
    "a_list = [3,4, 5,6,7,7,89]\n",
    "unique = set(a_list)\n",
    "print(list(unique))\n",
    "print(type(unique))\n",
    "\n",
    "\n",
    "\n",
    "# indices that have no labels are unknown (initialise all unknown then replace with statuses?)\n",
    "\n",
    "# if index has two labels, choose not the smoker"
   ]
  },
  {
   "cell_type": "code",
   "execution_count": 106,
   "id": "0dac4d87",
   "metadata": {
    "scrolled": true
   },
   "outputs": [
    {
     "name": "stdout",
     "output_type": "stream",
     "text": [
      "smoked quit\n",
      "['She', 'smoked', 'two', 'packs', 'per', 'day', 'for', '40', 'years', 'and', 'quit', 'four', 'years', 'ago', '.']\n",
      "smoked quit\n",
      "['hernia', 'repair', 'Social', 'History', ':', 'retired', 'window', 'maker', 'quit', 'smoking', '*', '*', '2106', '*', '*', ';', 'smoked', '2.5', 'ppd', 'for', '10', 'years', 'no', 'ETOH', 'lives', 'with', 'wife', 'Family', 'History', ':', 'no', 'premature', 'CAD', 'Physical', 'Exam', ':', 'PERRLA', ',', 'EOMI', ',', 'right', 'eye', 'with', 'baseline', 'congenital', 'drift', 'alert', 'and', 'oriented', 'x3', ',', 'MAE', '*', '*', '3-28', '*', '*', 'strengths', ',', 'steady', 'gait', 'RRR', ',', 'crisp', 'valve', 'click', ',', '?', 'murmur', 'CTAB', 'soft', ',', 'NT', ',', 'ND', ',', 'obese', 'abd', ',', 'no', 'palpable', 'masses', ',', '+', 'BS', 'extrems', 'warm', 'with', 'bil', 'LE', 'varicosities', 'no', 'carotid', 'bruits', '2+', 'bil', '.']\n",
      "smoked quit\n",
      "['He', 'smoked', 'a', 'pack', 'a', 'day', 'for', '40', 'years', 'and', 'quit', 'in', '*', '*', '2123', '*', '*', '.']\n",
      "smoked quit\n",
      "['Smoked', 'about', '0.5-1', 'packs', 'per', 'week', ',', 'quit', 'in', '*', '*', '12-6', '*', '*', '.']\n"
     ]
    }
   ],
   "source": [
    "unknown_labels_from_baseline = baseline(split_words)\n",
    "unknown_labels_smoker_in_household = smoker_in_household(split_words)\n",
    "nonsmoker_labels = find_nonsmokers(split_words) \n",
    "former_smoker_labels = find_former_smokers(split_words)\n",
    "former_smoker_labels_past = smoked_past(split_words)\n",
    "smoker_labels = find_current_smokers(split_words)"
   ]
  },
  {
   "cell_type": "code",
   "execution_count": 108,
   "id": "6c8f578e",
   "metadata": {},
   "outputs": [
    {
     "name": "stdout",
     "output_type": "stream",
     "text": [
      "unknown [22, 0, 4, 17, 28, 32, 34, 59, 61, 67]\n",
      "nonsmoker [65, 37, 38, 15, 16, 55, 27]\n",
      "former smoker [1, 2, 3, 35, 12, 47, 49, 18, 19, 23, 60, 2, 36, 43, 11, 58]\n",
      "smoker [8, 41, 14, 20, 21, 52, 62, 30]\n"
     ]
    }
   ],
   "source": [
    "unknown_labels = unknown_labels_from_baseline + unknown_labels_smoker_in_household\n",
    "nonsmoker_labels = find_nonsmokers(split_words) \n",
    "\n",
    "formersmoker_labels = former_smoker_labels + former_smoker_labels_past \n",
    "\n",
    "smoker_labels = find_current_smokers(split_words)\n",
    "\n",
    "print('unknown', unknown_labels)\n",
    "print('nonsmoker', nonsmoker_labels)\n",
    "print('former smoker', formersmoker_labels)\n",
    "print('smoker', smoker_labels)"
   ]
  },
  {
   "cell_type": "code",
   "execution_count": 109,
   "id": "d71ab16f",
   "metadata": {},
   "outputs": [],
   "source": [
    "def no_doubles(first_list, second_list): \n",
    "    \n",
    "    \"\"\"returns tuple with two lists\"\"\"\n",
    "    \n",
    "    intersection = [every_index for every_index in first_list if every_index in second_list]\n",
    "    \n",
    "    # if there are doubles\n",
    "    if len(intersection) > 0:\n",
    "        \n",
    "        # accounts for if there are more than one\n",
    "        for every_double in intersection: \n",
    "            \n",
    "            # remove from second list, keep in the first\n",
    "            second_list.remove(every_double)\n",
    "            \n",
    "    return first_list, second_list\n",
    "        \n",
    "    \n",
    "# give two lists, first always takes precendence"
   ]
  },
  {
   "cell_type": "code",
   "execution_count": 115,
   "id": "44f5c94b",
   "metadata": {},
   "outputs": [],
   "source": [
    "first = [3, 4, 6, 9, 7]\n",
    "second = [5, 7, 2, 31, 1]\n",
    "third = [4, 2, 8, 65]"
   ]
  },
  {
   "cell_type": "code",
   "execution_count": 116,
   "id": "78605881",
   "metadata": {},
   "outputs": [
    {
     "data": {
      "text/plain": [
       "([3, 4, 6, 9, 7], [5, 2, 31, 1])"
      ]
     },
     "execution_count": 116,
     "metadata": {},
     "output_type": "execute_result"
    }
   ],
   "source": [
    "no_doubles(first, second)"
   ]
  },
  {
   "cell_type": "code",
   "execution_count": 117,
   "id": "66249692",
   "metadata": {},
   "outputs": [
    {
     "data": {
      "text/plain": [
       "([5, 2, 31, 1], [4, 8, 65])"
      ]
     },
     "execution_count": 117,
     "metadata": {},
     "output_type": "execute_result"
    }
   ],
   "source": [
    "no_doubles(second, third)"
   ]
  },
  {
   "cell_type": "code",
   "execution_count": 119,
   "id": "ea090935",
   "metadata": {},
   "outputs": [
    {
     "name": "stdout",
     "output_type": "stream",
     "text": [
      "f [3, 4, 6, 9, 7]\n",
      "s [5, 2, 31, 1]\n"
     ]
    }
   ],
   "source": [
    "first_unique, second_unique = no_doubles(first, second)\n",
    "print('f', first_unique)\n",
    "print('s', second_unique)"
   ]
  },
  {
   "cell_type": "code",
   "execution_count": 120,
   "id": "c3eb9520",
   "metadata": {},
   "outputs": [
    {
     "name": "stdout",
     "output_type": "stream",
     "text": [
      "s [5, 2, 31, 1]\n",
      "t [4, 8, 65]\n"
     ]
    }
   ],
   "source": [
    "second_unique, third_unique = no_doubles(second_unique, third)\n",
    "print('s', second_unique)\n",
    "print('t', third_unique)"
   ]
  },
  {
   "cell_type": "code",
   "execution_count": 127,
   "id": "aec1fc98",
   "metadata": {},
   "outputs": [],
   "source": [
    "data_length = len(identifiers)\n",
    "\n",
    "final_labels = ['Unknown'] * data_length"
   ]
  },
  {
   "cell_type": "code",
   "execution_count": 129,
   "id": "99df7437",
   "metadata": {},
   "outputs": [],
   "source": [
    "def label(init_list, index_list, str_label):\n",
    "    \n",
    "    for every_index in index_list:\n",
    "        init_list[every_index] = str_label\n",
    "    \n",
    "    return init_list"
   ]
  },
  {
   "cell_type": "code",
   "execution_count": 131,
   "id": "2897fcfd",
   "metadata": {},
   "outputs": [],
   "source": [
    "fake_final = label(final_labels, nonsmoker_labels, 'Nonsmoker')"
   ]
  },
  {
   "cell_type": "code",
   "execution_count": 135,
   "id": "384288ba",
   "metadata": {},
   "outputs": [],
   "source": [
    "identifier_preds = list(zip(identifiers, fake_final))"
   ]
  },
  {
   "cell_type": "code",
   "execution_count": 139,
   "id": "e9b6432c",
   "metadata": {},
   "outputs": [
    {
     "data": {
      "text/html": [
       "<div>\n",
       "<style scoped>\n",
       "    .dataframe tbody tr th:only-of-type {\n",
       "        vertical-align: middle;\n",
       "    }\n",
       "\n",
       "    .dataframe tbody tr th {\n",
       "        vertical-align: top;\n",
       "    }\n",
       "\n",
       "    .dataframe thead th {\n",
       "        text-align: right;\n",
       "    }\n",
       "</style>\n",
       "<table border=\"1\" class=\"dataframe\">\n",
       "  <thead>\n",
       "    <tr style=\"text-align: right;\">\n",
       "      <th></th>\n",
       "      <th>row_id</th>\n",
       "      <th>smoking_status</th>\n",
       "    </tr>\n",
       "  </thead>\n",
       "  <tbody>\n",
       "    <tr>\n",
       "      <th>0</th>\n",
       "      <td>11911</td>\n",
       "      <td>Unknown</td>\n",
       "    </tr>\n",
       "    <tr>\n",
       "      <th>1</th>\n",
       "      <td>5853</td>\n",
       "      <td>Unknown</td>\n",
       "    </tr>\n",
       "    <tr>\n",
       "      <th>2</th>\n",
       "      <td>5366</td>\n",
       "      <td>Unknown</td>\n",
       "    </tr>\n",
       "    <tr>\n",
       "      <th>3</th>\n",
       "      <td>36155</td>\n",
       "      <td>Unknown</td>\n",
       "    </tr>\n",
       "    <tr>\n",
       "      <th>4</th>\n",
       "      <td>19896</td>\n",
       "      <td>Unknown</td>\n",
       "    </tr>\n",
       "    <tr>\n",
       "      <th>...</th>\n",
       "      <td>...</td>\n",
       "      <td>...</td>\n",
       "    </tr>\n",
       "    <tr>\n",
       "      <th>65</th>\n",
       "      <td>3117</td>\n",
       "      <td>Nonsmoker</td>\n",
       "    </tr>\n",
       "    <tr>\n",
       "      <th>66</th>\n",
       "      <td>19217</td>\n",
       "      <td>Unknown</td>\n",
       "    </tr>\n",
       "    <tr>\n",
       "      <th>67</th>\n",
       "      <td>12516</td>\n",
       "      <td>Unknown</td>\n",
       "    </tr>\n",
       "    <tr>\n",
       "      <th>68</th>\n",
       "      <td>37035</td>\n",
       "      <td>Unknown</td>\n",
       "    </tr>\n",
       "    <tr>\n",
       "      <th>69</th>\n",
       "      <td>13777</td>\n",
       "      <td>Unknown</td>\n",
       "    </tr>\n",
       "  </tbody>\n",
       "</table>\n",
       "<p>70 rows × 2 columns</p>\n",
       "</div>"
      ],
      "text/plain": [
       "    row_id smoking_status\n",
       "0    11911        Unknown\n",
       "1     5853        Unknown\n",
       "2     5366        Unknown\n",
       "3    36155        Unknown\n",
       "4    19896        Unknown\n",
       "..     ...            ...\n",
       "65    3117      Nonsmoker\n",
       "66   19217        Unknown\n",
       "67   12516        Unknown\n",
       "68   37035        Unknown\n",
       "69   13777        Unknown\n",
       "\n",
       "[70 rows x 2 columns]"
      ]
     },
     "execution_count": 139,
     "metadata": {},
     "output_type": "execute_result"
    }
   ],
   "source": [
    "# print(identifier_preds)\n",
    "preds_df = pd.DataFrame(identifier_preds, columns=['row_id','smoking_status'])\n",
    "preds_df"
   ]
  },
  {
   "cell_type": "code",
   "execution_count": 137,
   "id": "df232119",
   "metadata": {},
   "outputs": [],
   "source": [
    "X, Y = map(list, zip(*identifier_preds))"
   ]
  },
  {
   "cell_type": "code",
   "execution_count": 138,
   "id": "88fd5d77",
   "metadata": {},
   "outputs": [
    {
     "name": "stdout",
     "output_type": "stream",
     "text": [
      "[11911, 5853, 5366, 36155, 19896, 5377, 46361, 12798, 47211, 10377, 34014, 29676, 42884, 14238, 4053, 32565, 30698, 31431, 6838, 36898, 23341, 6644, 17708, 53596, 20403, 7256, 46701, 1030, 21910, 49089, 34464, 24790, 32978, 33349, 25411, 51000, 18687, 29869, 51692, 50867, 52244, 2629, 15564, 29718, 12663, 26743, 50129, 49710, 35305, 2900, 20173, 45881, 35495, 23216, 20796, 41523, 58482, 29654, 51831, 32750, 6698, 30870, 4547, 47290, 43336, 3117, 19217, 12516, 37035, 13777]\n",
      "['Unknown', 'Unknown', 'Unknown', 'Unknown', 'Unknown', 'Unknown', 'Unknown', 'Unknown', 'Unknown', 'Unknown', 'Unknown', 'Unknown', 'Unknown', 'Unknown', 'Unknown', 'Nonsmoker', 'Nonsmoker', 'Unknown', 'Unknown', 'Unknown', 'Unknown', 'Unknown', 'Unknown', 'Unknown', 'Unknown', 'Unknown', 'Unknown', 'Nonsmoker', 'Unknown', 'Unknown', 'Unknown', 'Unknown', 'Unknown', 'Unknown', 'Unknown', 'Unknown', 'Unknown', 'Nonsmoker', 'Nonsmoker', 'Unknown', 'Unknown', 'Unknown', 'Unknown', 'Unknown', 'Unknown', 'Unknown', 'Unknown', 'Unknown', 'Unknown', 'Unknown', 'Unknown', 'Unknown', 'Unknown', 'Unknown', 'Unknown', 'Nonsmoker', 'Unknown', 'Unknown', 'Unknown', 'Unknown', 'Unknown', 'Unknown', 'Unknown', 'Unknown', 'Unknown', 'Nonsmoker', 'Unknown', 'Unknown', 'Unknown', 'Unknown']\n"
     ]
    }
   ],
   "source": [
    "print(X)\n",
    "print(Y)"
   ]
  },
  {
   "cell_type": "code",
   "execution_count": 140,
   "id": "76106be9",
   "metadata": {},
   "outputs": [
    {
     "data": {
      "text/plain": [
       "'lalalalapreds.csv'"
      ]
     },
     "execution_count": 140,
     "metadata": {},
     "output_type": "execute_result"
    }
   ],
   "source": [
    "data_name = 'lalalala'\n",
    "csv_name = data_name + 'preds.csv'\n",
    "csv_name"
   ]
  },
  {
   "cell_type": "code",
   "execution_count": null,
   "id": "39d4bb9b",
   "metadata": {},
   "outputs": [],
   "source": []
  }
 ],
 "metadata": {
  "kernelspec": {
   "display_name": "Python 3 (ipykernel)",
   "language": "python",
   "name": "python3"
  },
  "language_info": {
   "codemirror_mode": {
    "name": "ipython",
    "version": 3
   },
   "file_extension": ".py",
   "mimetype": "text/x-python",
   "name": "python",
   "nbconvert_exporter": "python",
   "pygments_lexer": "ipython3",
   "version": "3.9.6"
  }
 },
 "nbformat": 4,
 "nbformat_minor": 5
}
