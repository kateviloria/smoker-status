{
 "cells": [
  {
   "cell_type": "code",
   "execution_count": 32,
   "id": "25c9dd3c",
   "metadata": {
    "scrolled": true
   },
   "outputs": [],
   "source": [
    "# testing text processing and possible rules to implement\n",
    "\n",
    "import pandas as pd\n",
    "# import nltk \n",
    "from nltk import tokenize #, word_tokenize\n",
    "from nltk.corpus import stopwords\n",
    "# from spacy.morphology import Morphology\n",
    "# import spacy\n",
    "# nlp = spacy.load(\"en_core_web_sm\")\n",
    "\n",
    "# nlp = spacy.load(\"en_core_web_sm\")\n",
    "# from nltk.parse.stanford import StanfordParser\n",
    "# from pycorenlp import StanfordCoreNLP\n"
   ]
  },
  {
   "cell_type": "code",
   "execution_count": 29,
   "id": "0346b78f",
   "metadata": {},
   "outputs": [],
   "source": [
    "# data will be a list of strings from dataframe\n",
    "smoker_data_df = pd.read_csv('smoker_status.csv')\n",
    "\n",
    "identifiers = smoker_data_df['row_id'].to_list()\n",
    "statuses = smoker_data_df['status'].to_list()\n",
    "med_notes = smoker_data_df['text'].to_list()\n",
    "\n",
    "assert len(identifiers) == len(statuses) == len(med_notes), 'Three cols not the same lengths.'"
   ]
  },
  {
   "cell_type": "code",
   "execution_count": 13,
   "id": "b3af8d97",
   "metadata": {},
   "outputs": [
    {
     "name": "stdout",
     "output_type": "stream",
     "text": [
      "[[34464, 'Smoker', \"Past Medical History: current smoker  Social History: married current smoker >10cigrettes/day current ETOH use,heavy per patient's family  Family History: + father and brother died of myocardial infraction  Physical Exam: Vitals:97.9-63-19\"]]\n",
      "--------------\n",
      "sentence split\n",
      "[\"Past Medical History: current smoker  Social History: married current smoker >10cigrettes/day current ETOH use,heavy per patient's family  Family History: + father and brother died of myocardial infraction  Physical Exam: Vitals:97.9-63-19\"]\n"
     ]
    }
   ],
   "source": [
    "# split into sentences test\n",
    "test_row = smoker_data_df.iloc[[30]].values.tolist()\n",
    "test_sent = test_row[0][2]\n",
    "print(test_row)\n",
    "\n",
    "# split into sentences\n",
    "split_sent = tokenize.sent_tokenize(test_sent)\n",
    "print('--------------')\n",
    "print('sentence split')\n",
    "print(split_sent)\n",
    "# not effective for most of medical notes, returns full sentences"
   ]
  },
  {
   "cell_type": "code",
   "execution_count": 15,
   "id": "8ab9a20b",
   "metadata": {},
   "outputs": [
    {
     "name": "stdout",
     "output_type": "stream",
     "text": [
      "['Past', 'Medical', 'History', ':', 'current', 'smoker', 'Social', 'History', ':', 'married', 'current', 'smoker', '>', '10cigrettes/day', 'current', 'ETOH', 'use', ',', 'heavy', 'per', 'patient', \"'s\", 'family', 'Family', 'History', ':', '+', 'father', 'and', 'brother', 'died', 'of', 'myocardial', 'infraction', 'Physical', 'Exam', ':', 'Vitals:97.9-63-19']\n"
     ]
    }
   ],
   "source": [
    "# split into words test (most effective would have been sentences then words)\n",
    "wordtok_sent = nltk.word_tokenize(test_sent)\n",
    "print(wordtok_sent)"
   ]
  },
  {
   "cell_type": "code",
   "execution_count": 16,
   "id": "6729c101",
   "metadata": {},
   "outputs": [],
   "source": [
    "# split all sentences into words\n",
    "split_words = [nltk.word_tokenize(every_text)for every_text in med_notes]"
   ]
  },
  {
   "cell_type": "code",
   "execution_count": 17,
   "id": "d3ba3514",
   "metadata": {},
   "outputs": [
    {
     "data": {
      "text/plain": [
       "[22]"
      ]
     },
     "execution_count": 17,
     "metadata": {},
     "output_type": "execute_result"
    }
   ],
   "source": [
    "# create baseline\n",
    "    \n",
    "# if words not related to smoking does not appear, label as unknown ==> F1\n",
    "smoke_words = ['smoke', \n",
    "               'smoker', \n",
    "               'smoking', 'Smoking',\n",
    "               'smokes',\n",
    "               'smoked', 'Smoked', \n",
    "               'ppd', # maybe not needed\n",
    "               'nonsmoker', 'Nonsmoker',]\n",
    "                # useful words to add: 'tob', 'tobacco', 'cigs', 'cigarettes'\n",
    "\n",
    "\n",
    "# all sentences should be okay for this dataset\n",
    "def baseline(all_sents):\n",
    "    \n",
    "    to_label_unknown = []\n",
    "    \n",
    "    for every_sentence_idx in range(len(all_sents)):\n",
    "        \n",
    "        word_list = all_sents[every_sentence_idx]\n",
    "        \n",
    "        # check if any of the smoke_words appear in each sentence\n",
    "        if any([every_smoke_word in word_list for every_smoke_word in smoke_words]) == False:\n",
    "            \n",
    "            to_label_unknown.append(every_sentence_idx)\n",
    "    \n",
    "    return to_label_unknown\n",
    "    \n",
    "#     return to_unknown\n",
    "\n",
    "baseline(split_words)\n",
    "    \n",
    "    "
   ]
  },
  {
   "cell_type": "code",
   "execution_count": 43,
   "id": "cc0960c0",
   "metadata": {},
   "outputs": [
    {
     "name": "stdout",
     "output_type": "stream",
     "text": [
      "done all sents\n",
      "[15, 16, 27, 37, 38, 55, 65]\n"
     ]
    }
   ],
   "source": [
    "# next state, nonsmoker\n",
    "    # labels have 'nonsmoker' or 'Nonsmoker'\n",
    "    # or negation, POS?\n",
    "\n",
    "# all_sents = after baseline\n",
    "def find_nonsmokers(all_sents):\n",
    "    \n",
    "    nonsmoker_words = ['nonsmoker', 'Nonsmoker']\n",
    "    \n",
    "    to_label_nonsmoker = []\n",
    "    \n",
    "    for every_sentence_idx in range(len(all_sents)):\n",
    "        \n",
    "        word_list = all_sents[every_sentence_idx]\n",
    "        \n",
    "        # check if any of nonsmoker_words appear in each sentence\n",
    "        if any([every_word in word_list for every_word in nonsmoker_words]) == True:\n",
    "            \n",
    "            to_label_nonsmoker.append(every_sentence_idx)\n",
    "        \n",
    "        \n",
    "        # check if text includes 'does not smoke', 'no h/o smoking', 'does not drink, smoke, or do any drugs'\n",
    "            # relies on text only having 'smoker' appear once\n",
    "            \n",
    "        # 'no h/o smoking'\n",
    "        if word_list.count('smoking') == 1:\n",
    "            \n",
    "            #if 'smoking' in word_list:\n",
    "\n",
    "            smoking_idx = word_list.index('smoking')\n",
    "            ho_idx = smoking_idx - 1\n",
    "            no_idx = smoking_idx - 2\n",
    "\n",
    "            # 'no', 'h/o', 'smoking' must appear in exact order in word list\n",
    "            if word_list[ho_idx] == 'h/o' and word_list[no_idx] == 'no':\n",
    "\n",
    "                to_label_nonsmoker.append(every_sentence_idx)\n",
    "                #print(word_list)\n",
    "        \n",
    "        # 'does not smoke'\n",
    "        if word_list.count('smoke') == 1:\n",
    "            \n",
    "            #if 'smoke' in word_list:\n",
    "            smoke_idx = word_list.index('smoke')\n",
    "            not_idx = smoke_idx - 1 \n",
    "            does_idx = smoke_idx - 2\n",
    "\n",
    "            if word_list[not_idx] == 'not' and word_list[does_idx] == 'does':\n",
    "\n",
    "                to_label_nonsmoker.append(every_sentence_idx)\n",
    "        \n",
    "        \n",
    "    print('done all sents')\n",
    "    print(to_label_nonsmoker)\n",
    "#     return to_label_nonsmoker \n",
    "\n",
    "find_nonsmokers(split_words)     \n",
    "# [15, 16, 27, 37, 38, 55, 65]"
   ]
  },
  {
   "cell_type": "code",
   "execution_count": 41,
   "id": "761d68b5",
   "metadata": {},
   "outputs": [
    {
     "name": "stdout",
     "output_type": "stream",
     "text": [
      "done sents\n",
      "[0, 4, 17, 28, 32, 34, 59, 61, 67]\n"
     ]
    }
   ],
   "source": [
    "# next state, unknown labels in data all have 'with a smoker in the household'\n",
    "    # too specific, should have another check in case it has other?\n",
    "\n",
    "def smoker_in_household(all_sents):\n",
    "    \n",
    "    to_label_unknown = []\n",
    "    \n",
    "    for every_sentence_idx in range(len(all_sents)):\n",
    "        \n",
    "        word_list = all_sents[every_sentence_idx]\n",
    "        \n",
    "        # check if 'smoker in the household' is in sentence\n",
    "            # relies on text only having 'smoker' appear once\n",
    "        if word_list.count('smoker') == 1:\n",
    "            \n",
    "            #if 'smoker' in word_list:\n",
    "\n",
    "            smoker_idx = word_list.index('smoker')\n",
    "            in_idx = smoker_idx + 1\n",
    "            the_idx = smoker_idx + 2\n",
    "            household_idx = smoker_idx + 3\n",
    "\n",
    "            # 'smoker', 'in', 'the', 'household' must appear in exact order in word list\n",
    "            if word_list[in_idx] == 'in' and word_list[the_idx] == 'the' and word_list[household_idx] == 'household':\n",
    "                to_label_unknown.append(every_sentence_idx)\n",
    "\n",
    "            \n",
    "    print('done sents')\n",
    "    print(to_label_unknown)\n",
    "    \n",
    "        \n",
    "smoker_in_household(split_words)"
   ]
  },
  {
   "cell_type": "code",
   "execution_count": 48,
   "id": "82e91798",
   "metadata": {},
   "outputs": [
    {
     "ename": "TypeError",
     "evalue": "Argument 'strings' has incorrect type (expected spacy.strings.StringStore, got str)",
     "output_type": "error",
     "traceback": [
      "\u001b[0;31m---------------------------------------------------------------------------\u001b[0m",
      "\u001b[0;31mTypeError\u001b[0m                                 Traceback (most recent call last)",
      "\u001b[0;32m/tmp/ipykernel_3910260/1851747864.py\u001b[0m in \u001b[0;36m<module>\u001b[0;34m\u001b[0m\n\u001b[1;32m      1\u001b[0m \u001b[0;31m# after smoker words inside word_list\u001b[0m\u001b[0;34m\u001b[0m\u001b[0;34m\u001b[0m\u001b[0;34m\u001b[0m\u001b[0m\n\u001b[1;32m      2\u001b[0m \u001b[0;34m\u001b[0m\u001b[0m\n\u001b[0;32m----> 3\u001b[0;31m \u001b[0mm\u001b[0m \u001b[0;34m=\u001b[0m \u001b[0mMorphology\u001b[0m\u001b[0;34m(\u001b[0m\u001b[0;34m'smoked'\u001b[0m\u001b[0;34m)\u001b[0m\u001b[0;34m\u001b[0m\u001b[0;34m\u001b[0m\u001b[0m\n\u001b[0m",
      "\u001b[0;31mTypeError\u001b[0m: Argument 'strings' has incorrect type (expected spacy.strings.StringStore, got str)"
     ]
    }
   ],
   "source": [
    "# after smoker words inside word_list\n",
    "\n",
    "# check suffixes of words in sentences that have not been labelled as unknown\n",
    "    # --> should diverge to Smoker and Former Smoker labels\n",
    "\n"
   ]
  },
  {
   "cell_type": "code",
   "execution_count": 97,
   "id": "aa1f6bd2",
   "metadata": {},
   "outputs": [
    {
     "name": "stdout",
     "output_type": "stream",
     "text": [
      "quit smoking # time ago\n",
      "['Quit', 'smoking', '23', 'years', 'ago', '.']\n",
      "quit # time ago\n",
      "['She', 'smoked', 'two', 'packs', 'per', 'day', 'for', '40', 'years', 'and', 'quit', 'four', 'years', 'ago', '.']\n",
      "quit # time ago\n",
      "['Former', 'smoker', ',', 'quit', '20', 'years', 'ago', '.']\n",
      "quit smoking X A_NUMBER TEMPORAL_WORD ago\n",
      "['He', 'quit', 'smoking', 'over', '15', 'years', 'ago', '.']\n",
      "quit smoking # time ago\n",
      "['He', 'is', 'a', 'retired', 'accountant', 'who', 'quit', 'smoking', '20', 'years', 'ago', '.']\n",
      "quit smoking # time ago\n",
      "['Per', 'Dr.', '*', '*', 'Name', '(', 'NI', ')', '105962', '*', '*', 'note', 'in', 'OMR', ':', 'He', 'quit', 'smoking', '25', 'years', 'ago', '.']\n",
      "quit # time ago\n",
      "['He', 'has', 'a', '30pk', 'year', 'smoking', 'hx', 'but', 'quit', '10', 'years', 'ago', '.']\n",
      "quit # time ago\n",
      "['Former', 'smoker', 'but', 'quit', '30', 'years', 'ago', '.']\n",
      "quit smoking # time ago\n",
      "['Quit', 'smoking', '25', 'years', 'ago', '.']\n",
      "done sentences\n",
      "[1, 2, 3, 12, 19, 23, 35, 47, 49, 60]\n"
     ]
    }
   ],
   "source": [
    "# find former smokers\n",
    "\n",
    "# med_notes are not split into words\n",
    "\n",
    "def find_former_smokers(all_sents):\n",
    "    \n",
    "    to_label_formersmoker = []\n",
    "    temporal_words = ['years', 'months', 'weeks', 'days']#['years', 'yrs', 'months', 'weeks', 'days']\n",
    "    approximate_words = ['under', 'over', 'around']\n",
    "    \n",
    "    \n",
    "    for every_sentence_idx in range(len(all_sents)):\n",
    "        \n",
    "        word_list = all_sents[every_sentence_idx]\n",
    "\n",
    "        pos_tagged = nltk.pos_tag(word_list)\n",
    "#         print('word list')\n",
    "#         print(word_list)\n",
    "        \n",
    "#         print('pos-tagged')\n",
    "#         print(pos_tagged)\n",
    "\n",
    "        \n",
    "        if word_list.count('quit') == 1 or word_list.count('Quit') == 1:\n",
    "            \n",
    "            lowercase_quit = [every_word.lower() if every_word == 'Quit' else every_word for every_word in word_list]\n",
    "#             print(lowercase_quit)\n",
    "            \n",
    "            quit_idx = lowercase_quit.index('quit')\n",
    "            after_quit_idx = quit_idx + 1\n",
    "\n",
    "\n",
    "            # check if 'quit smoking A_NUMBER TEMPORAL_WORD ago'\n",
    "            if word_list[after_quit_idx] == 'smoking' and pos_tagged[after_quit_idx + 1][1] == 'CD' and word_list[after_quit_idx + 2] in temporal_words and word_list[after_quit_idx + 3] == 'ago':\n",
    "                print('quit smoking # time ago')\n",
    "                print(word_list)\n",
    "                to_label_formersmoker.append(every_sentence_idx)\n",
    "            \n",
    "            # takes into account 'quit smoking X A_NUMBER TEMPORAL_WORD ago' X = over, around, under\n",
    "            if word_list[after_quit_idx] == 'smoking' and word_list[after_quit_idx + 1] in approximate_words and pos_tagged[after_quit_idx + 2][1] == 'CD' and word_list[after_quit_idx + 3] in temporal_words and word_list[after_quit_idx + 4] == 'ago':\n",
    "                print('quit smoking X A_NUMBER TEMPORAL_WORD ago')\n",
    "                print(word_list)\n",
    "                to_label_formersmoker.append(every_sentence_idx)\n",
    "                \n",
    "                \n",
    "            # might indicate that quit something other than smoking\n",
    "            if pos_tagged[after_quit_idx][1] == 'CD' and word_list[after_quit_idx + 1] in temporal_words and word_list[after_quit_idx + 2] == 'ago':\n",
    "                print('quit # time ago')\n",
    "                print(word_list)\n",
    "                to_label_formersmoker.append(every_sentence_idx)\n",
    "        \n",
    "        # search 'former smoker'\n",
    "        if word_list.count('smoker') == 1:\n",
    "            smoker_idx = word_list.index('smoker')\n",
    "            before_smoker_idx = smoker_idx - 1\n",
    "            \n",
    "            # allows 'former' and 'Former'\n",
    "            if word_list[before_smoker_idx].lower() == 'former':\n",
    "                \n",
    "                # some texts have both 'quit smoking X years ago' AND 'former smoker'\n",
    "                if every_sentence_idx not in to_label_formersmoker:\n",
    "                    to_label_formersmoker.append(every_sentence_idx)\n",
    "                \n",
    "\n",
    "    print('done sentences')\n",
    "    print(to_label_formersmoker)\n",
    "\n",
    "find_former_smokers(split_words)\n",
    "# [1, 2, 3, 19, 23, 35, 47, 49, 60]"
   ]
  },
  {
   "cell_type": "code",
   "execution_count": 92,
   "id": "38329757",
   "metadata": {},
   "outputs": [
    {
     "data": {
      "text/plain": [
       "[('He', 'PRP'),\n",
       " ('quit', 'VBD'),\n",
       " ('smoking', 'VBG'),\n",
       " ('over', 'IN'),\n",
       " ('15', 'CD'),\n",
       " ('years', 'NNS'),\n",
       " ('ago', 'RB'),\n",
       " ('.', '.')]"
      ]
     },
     "execution_count": 92,
     "metadata": {},
     "output_type": "execute_result"
    }
   ],
   "source": [
    "nltk.pos_tag(split_words[12])"
   ]
  },
  {
   "cell_type": "code",
   "execution_count": 93,
   "id": "c09b1c3c",
   "metadata": {},
   "outputs": [
    {
     "data": {
      "text/plain": [
       "['He', 'quit', 'smoking', 'over', '15', 'years', 'ago', '.']"
      ]
     },
     "execution_count": 93,
     "metadata": {},
     "output_type": "execute_result"
    }
   ],
   "source": [
    "split_words[12]"
   ]
  },
  {
   "cell_type": "code",
   "execution_count": 96,
   "id": "88bb1225",
   "metadata": {},
   "outputs": [
    {
     "data": {
      "text/plain": [
       "[('He', 'PRP'),\n",
       " ('quit', 'VBD'),\n",
       " ('smoking', 'VBG'),\n",
       " ('around', 'RB'),\n",
       " ('15', 'CD'),\n",
       " ('years', 'NNS'),\n",
       " ('ago', 'RB'),\n",
       " ('.', '.')]"
      ]
     },
     "execution_count": 96,
     "metadata": {},
     "output_type": "execute_result"
    }
   ],
   "source": [
    "nltk.pos_tag(['He', 'quit', 'smoking', 'around', '15', 'years', 'ago', '.'])"
   ]
  },
  {
   "cell_type": "code",
   "execution_count": 35,
   "id": "57f18fb8",
   "metadata": {},
   "outputs": [],
   "source": [
    "# stopwords\n",
    "\n",
    "# en_stop_words = stopwords.words('english')\n",
    "# en_stop_words"
   ]
  },
  {
   "cell_type": "code",
   "execution_count": null,
   "id": "c06e6d70",
   "metadata": {},
   "outputs": [],
   "source": [
    "# will have to compare if indices appear twice in the \"to_label_x\" lists\n",
    "\n",
    "# indices that have no labels are unknown (initialise all unknown then replace with statuses?)"
   ]
  }
 ],
 "metadata": {
  "kernelspec": {
   "display_name": "Python 3 (ipykernel)",
   "language": "python",
   "name": "python3"
  },
  "language_info": {
   "codemirror_mode": {
    "name": "ipython",
    "version": 3
   },
   "file_extension": ".py",
   "mimetype": "text/x-python",
   "name": "python",
   "nbconvert_exporter": "python",
   "pygments_lexer": "ipython3",
   "version": "3.9.6"
  }
 },
 "nbformat": 4,
 "nbformat_minor": 5
}
