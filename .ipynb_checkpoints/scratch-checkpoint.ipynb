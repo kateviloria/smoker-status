{
 "cells": [
  {
   "cell_type": "code",
   "execution_count": 1,
   "id": "1620edf5",
   "metadata": {},
   "outputs": [],
   "source": [
    "# baby tests\n",
    "\n",
    "import pandas as pd\n",
    "from sklearn.metrics import accuracy_score, precision_score, recall_score, f1_score\n",
    "\n",
    "import pprint\n",
    "\n",
    "# metrics to consider\n",
    "from sklearn.metrics import balanced_accuracy_score \n",
    "from sklearn.metrics import classification_report\n",
    "from sklearn.metrics import confusion_matrix, ConfusionMatrixDisplay\n",
    "import matplotlib.pyplot as plt"
   ]
  },
  {
   "cell_type": "code",
   "execution_count": 2,
   "id": "249b3229",
   "metadata": {},
   "outputs": [],
   "source": [
    "smoker_data_df = pd.read_csv('smoker_status.csv')  "
   ]
  },
  {
   "cell_type": "code",
   "execution_count": 3,
   "id": "9f317adb",
   "metadata": {},
   "outputs": [],
   "source": [
    "# get gold labels\n",
    "smoker_gold =  dict(zip(smoker_data_df.row_id, smoker_data_df.status))"
   ]
  },
  {
   "cell_type": "code",
   "execution_count": 4,
   "id": "9ee7ee04",
   "metadata": {
    "scrolled": true
   },
   "outputs": [
    {
     "name": "stdout",
     "output_type": "stream",
     "text": [
      "11911 type: <class 'int'>\n",
      "Unknown type:  <class 'str'>\n"
     ]
    }
   ],
   "source": [
    "# check types of key and value\n",
    "key1 = list(smoker_gold.keys())[0]\n",
    "print(key1, 'type:', type(key1))\n",
    "\n",
    "value1 = smoker_gold[key1]\n",
    "print(value1, 'type: ', type(value1))"
   ]
  },
  {
   "cell_type": "code",
   "execution_count": 5,
   "id": "58671160",
   "metadata": {},
   "outputs": [],
   "source": [
    "# smoker_gold"
   ]
  },
  {
   "cell_type": "code",
   "execution_count": 6,
   "id": "e4866ae7",
   "metadata": {},
   "outputs": [],
   "source": [
    "# for validating keys (patient identifiers) are the same order\n",
    "gold_patients = list(smoker_gold.keys())\n",
    "gold_statuses = list(smoker_gold.values())"
   ]
  },
  {
   "cell_type": "code",
   "execution_count": 7,
   "id": "70abdeac",
   "metadata": {},
   "outputs": [],
   "source": [
    "fake_pred_patients = [11911,  5853,  5366,  36155,  19896,  5377,  46361,  12798,  47211,  10377,  34014,  29676,  \n",
    "                      42884,  14238,  4053,  32565,  30698,  31431,  6838,  36898,  23341,  6644,  17708,  53596,  \n",
    "                      20403,  7256,  46701,  1030,  21910,  49089,  34464,  24790,  32978,  33349,  25411,  51000,  \n",
    "                      18687,  29869,  51692,  50867,  52244,  2629,  15564,  29718,  12663,  26743,  50129,  49710,  \n",
    "                      35305,  2900,  20173,  45881,  35495,  23216,  20796,  41523,  58482,  29654,  51831,  32750,  \n",
    "                      6698,  30870,  4547,  47290,  43336,  3117,  19217,  12516,  37035,  13774] \n",
    "                        # last number changed from 7 to 4"
   ]
  },
  {
   "cell_type": "code",
   "execution_count": 8,
   "id": "eb503d88",
   "metadata": {},
   "outputs": [
    {
     "ename": "AssertionError",
     "evalue": "Patient identifier lists are not identical.",
     "output_type": "error",
     "traceback": [
      "\u001b[0;31m---------------------------------------------------------------------------\u001b[0m",
      "\u001b[0;31mAssertionError\u001b[0m                            Traceback (most recent call last)",
      "\u001b[0;32m/tmp/ipykernel_3797088/3814601446.py\u001b[0m in \u001b[0;36m<module>\u001b[0;34m\u001b[0m\n\u001b[0;32m----> 1\u001b[0;31m \u001b[0;32massert\u001b[0m \u001b[0mgold_patients\u001b[0m \u001b[0;34m==\u001b[0m \u001b[0mfake_pred_patients\u001b[0m\u001b[0;34m,\u001b[0m \u001b[0;34m'Patient identifier lists are not identical.'\u001b[0m\u001b[0;34m\u001b[0m\u001b[0;34m\u001b[0m\u001b[0m\n\u001b[0m",
      "\u001b[0;31mAssertionError\u001b[0m: Patient identifier lists are not identical."
     ]
    }
   ],
   "source": [
    "assert gold_patients == fake_pred_patients, 'Patient identifier lists are not identical.' "
   ]
  },
  {
   "cell_type": "code",
   "execution_count": 9,
   "id": "86337ee5",
   "metadata": {},
   "outputs": [],
   "source": [
    "fake_pred_statuses = ['Unknown',  'Former Smoker',  'Former Smoker',  'Former Smoker',  'Unknown',  'Smoker',  \n",
    "                      'Smoker',  'Smoker',  'Smoker',  'Smoker',  'Smoker',  'Former Smoker',  'Former Smoker',  \n",
    "                      'Smoker',  'Smoker',  'Non Smoker',  'Non Smoker',  'Unknown',  'Former Smoker',  \n",
    "                      'Former Smoker',  'Smoker',  'Smoker',  'Former Smoker',  'Former Smoker',  'Smoker',  \n",
    "                      'Former Smoker',  'Former Smoker',  'Non Smoker',  'Unknown',  'Smoker',  'Smoker',  \n",
    "                      'Smoker',  'Unknown',  'Former Smoker',  'Unknown',  'Former Smoker',  'Former Smoker',  \n",
    "                      'Non Smoker',  'Non Smoker',  'Former Smoker',  'Former Smoker',  'Smoker',  'Former Smoker',  \n",
    "                      'Former Smoker',  'Smoker',  'Non Smoker',  'Smoker',  'Former Smoker',  'Former Smoker',  \n",
    "                      'Former Smoker',  'Smoker',  'Smoker',  'Smoker',  'Smoker',  'Former Smoker',  \n",
    "                      'Non Smoker',  'Former Smoker',  'Smoker',  'Former Smoker',  'Unknown',  'Former Smoker',  \n",
    "                      'Unknown', 'Smoker',  'Former Smoker',  'Smoker',  'Non Smoker',  'Smoker',  'Unknown',  \n",
    "                      'Smoker', 'Smoker']\n",
    "                      # changed last from Former Smoker to Smoker"
   ]
  },
  {
   "cell_type": "code",
   "execution_count": 10,
   "id": "91de80c9",
   "metadata": {},
   "outputs": [
    {
     "name": "stdout",
     "output_type": "stream",
     "text": [
      "0.9857142857142858\n"
     ]
    }
   ],
   "source": [
    "accuracy = accuracy_score(gold_statuses, fake_pred_statuses)\n",
    "print(accuracy)"
   ]
  },
  {
   "cell_type": "code",
   "execution_count": 11,
   "id": "1f473456",
   "metadata": {},
   "outputs": [
    {
     "name": "stdout",
     "output_type": "stream",
     "text": [
      "0.9907407407407407\n"
     ]
    }
   ],
   "source": [
    "balanced_accuracy = balanced_accuracy_score(gold_statuses, fake_pred_statuses)\n",
    "print(balanced_accuracy)"
   ]
  },
  {
   "cell_type": "code",
   "execution_count": 12,
   "id": "e7a2bea1",
   "metadata": {
    "scrolled": false
   },
   "outputs": [
    {
     "name": "stdout",
     "output_type": "stream",
     "text": [
      "[1.         1.         0.96296296 1.        ]\n",
      "{'Former Smoker': {'f1-score': 0.9811320754716981,\n",
      "                   'precision': 1.0,\n",
      "                   'recall': 0.9629629629629629,\n",
      "                   'support': 27},\n",
      " 'Non Smoker': {'f1-score': 1.0, 'precision': 1.0, 'recall': 1.0, 'support': 8},\n",
      " 'Smoker': {'f1-score': 0.9811320754716981,\n",
      "            'precision': 0.9629629629629629,\n",
      "            'recall': 1.0,\n",
      "            'support': 26},\n",
      " 'Unknown': {'f1-score': 1.0, 'precision': 1.0, 'recall': 1.0, 'support': 9},\n",
      " 'accuracy': 0.9857142857142858,\n",
      " 'macro avg': {'f1-score': 0.9905660377358491,\n",
      "               'precision': 0.9907407407407407,\n",
      "               'recall': 0.9907407407407407,\n",
      "               'support': 70},\n",
      " 'weighted avg': {'f1-score': 0.9857142857142858,\n",
      "                  'precision': 0.9862433862433863,\n",
      "                  'recall': 0.9857142857142858,\n",
      "                  'support': 70}}\n"
     ]
    }
   ],
   "source": [
    "label_names = ['Former Smoker', 'Non Smoker', 'Smoker', 'Unknown'] # alphabetised \n",
    "\n",
    "precision = precision_score(gold_statuses, fake_pred_statuses, average=None)\n",
    "print(precision)\n",
    "\n",
    "# as dict\n",
    "class_report_dict = classification_report(gold_statuses, fake_pred_statuses, \n",
    "                                     target_names = label_names,\n",
    "                                     output_dict = True)\n",
    "\n",
    "pprint.pprint(class_report_dict)"
   ]
  },
  {
   "cell_type": "code",
   "execution_count": 13,
   "id": "44129d91",
   "metadata": {},
   "outputs": [
    {
     "name": "stdout",
     "output_type": "stream",
     "text": [
      "               precision    recall  f1-score   support\n",
      "\n",
      "Former Smoker       1.00      0.96      0.98        27\n",
      "   Non Smoker       1.00      1.00      1.00         8\n",
      "       Smoker       0.96      1.00      0.98        26\n",
      "      Unknown       1.00      1.00      1.00         9\n",
      "\n",
      "     accuracy                           0.99        70\n",
      "    macro avg       0.99      0.99      0.99        70\n",
      " weighted avg       0.99      0.99      0.99        70\n",
      "\n"
     ]
    }
   ],
   "source": [
    "class_report = classification_report(gold_statuses, fake_pred_statuses, target_names = label_names)\n",
    "print(class_report)"
   ]
  },
  {
   "cell_type": "code",
   "execution_count": 14,
   "id": "8998db48",
   "metadata": {},
   "outputs": [
    {
     "name": "stdout",
     "output_type": "stream",
     "text": [
      "               precision    recall  f1-score    support\n",
      "Former Smoker   1.000000  0.962963  0.981132  27.000000\n",
      "Non Smoker      1.000000  1.000000  1.000000   8.000000\n",
      "Smoker          0.962963  1.000000  0.981132  26.000000\n",
      "Unknown         1.000000  1.000000  1.000000   9.000000\n",
      "accuracy        0.985714  0.985714  0.985714   0.985714\n",
      "macro avg       0.990741  0.990741  0.990566  70.000000\n",
      "weighted avg    0.986243  0.985714  0.985714  70.000000\n"
     ]
    }
   ],
   "source": [
    "classreport_df = pd.DataFrame.from_dict(class_report_dict).transpose()\n",
    "print(classreport_df)"
   ]
  },
  {
   "cell_type": "code",
   "execution_count": 39,
   "id": "4bfdbbfe",
   "metadata": {},
   "outputs": [
    {
     "data": {
      "text/plain": [
       "0.9905660000000001"
      ]
     },
     "execution_count": 39,
     "metadata": {},
     "output_type": "execute_result"
    }
   ],
   "source": [
    "macro_f1 = (0.981132 + 1.000000 + 0.981132 + 1.000000)/4\n",
    "macro_f1"
   ]
  },
  {
   "cell_type": "code",
   "execution_count": 15,
   "id": "d1691715",
   "metadata": {},
   "outputs": [
    {
     "data": {
      "text/plain": [
       "0.9857142857142858"
      ]
     },
     "execution_count": 15,
     "metadata": {},
     "output_type": "execute_result"
    }
   ],
   "source": [
    "precision_mic = precision_score(gold_statuses, fake_pred_statuses, average='micro')\n",
    "precision_mic"
   ]
  },
  {
   "cell_type": "code",
   "execution_count": 37,
   "id": "e761533e",
   "metadata": {},
   "outputs": [
    {
     "data": {
      "image/png": "[encoded data removed]",
      "text/plain": [
       "<Figure size 432x288 with 2 Axes>"
      ]
     },
     "metadata": {
      "needs_background": "light"
     },
     "output_type": "display_data"
    }
   ],
   "source": [
    "# confusion matrix + display\n",
    "cm = confusion_matrix(gold_statuses, fake_pred_statuses)\n",
    "\n",
    "disp = ConfusionMatrixDisplay(confusion_matrix = cm,\n",
    "                               display_labels = ['Former', 'Non', 'Smoker', 'Unknown'])#,\n",
    "                               #cmap=plt.cm.Blues)\n",
    "disp.plot(cmap=\"YlOrRd\")\n",
    "plt.show()\n",
    "\n",
    "# dataaa = 'smoker_status.csv'\n",
    "# data = dataaa[:-4]\n",
    "# cm_path = data + '-cm.png'\n",
    "# plt.savefig(cm_path)"
   ]
  },
  {
   "cell_type": "code",
   "execution_count": 24,
   "id": "51606b07",
   "metadata": {},
   "outputs": [
    {
     "name": "stdout",
     "output_type": "stream",
     "text": [
      "{'Former Smoker': {'precision': 1.0, 'recall': 0.9629629629629629, 'f1-score': 0.9811320754716981, 'support': 27}, 'Non Smoker': {'precision': 1.0, 'recall': 1.0, 'f1-score': 1.0, 'support': 8}, 'Smoker': {'precision': 0.9629629629629629, 'recall': 1.0, 'f1-score': 0.9811320754716981, 'support': 26}, 'Unknown': {'precision': 1.0, 'recall': 1.0, 'f1-score': 1.0, 'support': 9}, 'accuracy': 0.9857142857142858, 'macro avg': {'precision': 0.9907407407407407, 'recall': 0.9907407407407407, 'f1-score': 0.9905660377358491, 'support': 70}, 'weighted avg': {'precision': 0.9862433862433863, 'recall': 0.9857142857142858, 'f1-score': 0.9857142857142858, 'support': 70}}\n"
     ]
    },
    {
     "data": {
      "text/html": [
       "<div>\n",
       "<style scoped>\n",
       "    .dataframe tbody tr th:only-of-type {\n",
       "        vertical-align: middle;\n",
       "    }\n",
       "\n",
       "    .dataframe tbody tr th {\n",
       "        vertical-align: top;\n",
       "    }\n",
       "\n",
       "    .dataframe thead th {\n",
       "        text-align: right;\n",
       "    }\n",
       "</style>\n",
       "<table border=\"1\" class=\"dataframe\">\n",
       "  <thead>\n",
       "    <tr style=\"text-align: right;\">\n",
       "      <th></th>\n",
       "      <th>Former Smoker</th>\n",
       "      <th>Non Smoker</th>\n",
       "      <th>Smoker</th>\n",
       "      <th>Unknown</th>\n",
       "      <th>accuracy</th>\n",
       "      <th>macro avg</th>\n",
       "      <th>weighted avg</th>\n",
       "    </tr>\n",
       "  </thead>\n",
       "  <tbody>\n",
       "    <tr>\n",
       "      <th>precision</th>\n",
       "      <td>1.000000</td>\n",
       "      <td>1.0</td>\n",
       "      <td>0.962963</td>\n",
       "      <td>1.0</td>\n",
       "      <td>0.985714</td>\n",
       "      <td>0.990741</td>\n",
       "      <td>0.986243</td>\n",
       "    </tr>\n",
       "    <tr>\n",
       "      <th>recall</th>\n",
       "      <td>0.962963</td>\n",
       "      <td>1.0</td>\n",
       "      <td>1.000000</td>\n",
       "      <td>1.0</td>\n",
       "      <td>0.985714</td>\n",
       "      <td>0.990741</td>\n",
       "      <td>0.985714</td>\n",
       "    </tr>\n",
       "    <tr>\n",
       "      <th>f1-score</th>\n",
       "      <td>0.981132</td>\n",
       "      <td>1.0</td>\n",
       "      <td>0.981132</td>\n",
       "      <td>1.0</td>\n",
       "      <td>0.985714</td>\n",
       "      <td>0.990566</td>\n",
       "      <td>0.985714</td>\n",
       "    </tr>\n",
       "    <tr>\n",
       "      <th>support</th>\n",
       "      <td>27.000000</td>\n",
       "      <td>8.0</td>\n",
       "      <td>26.000000</td>\n",
       "      <td>9.0</td>\n",
       "      <td>0.985714</td>\n",
       "      <td>70.000000</td>\n",
       "      <td>70.000000</td>\n",
       "    </tr>\n",
       "  </tbody>\n",
       "</table>\n",
       "</div>"
      ],
      "text/plain": [
       "           Former Smoker  Non Smoker     Smoker  Unknown  accuracy  macro avg  \\\n",
       "precision       1.000000         1.0   0.962963      1.0  0.985714   0.990741   \n",
       "recall          0.962963         1.0   1.000000      1.0  0.985714   0.990741   \n",
       "f1-score        0.981132         1.0   0.981132      1.0  0.985714   0.990566   \n",
       "support        27.000000         8.0  26.000000      9.0  0.985714  70.000000   \n",
       "\n",
       "           weighted avg  \n",
       "precision      0.986243  \n",
       "recall         0.985714  \n",
       "f1-score       0.985714  \n",
       "support       70.000000  "
      ]
     },
     "execution_count": 24,
     "metadata": {},
     "output_type": "execute_result"
    }
   ],
   "source": [
    "# check if .transpose() is adding/changing values in accuracy\n",
    "class_report_dict = classification_report(gold_statuses, fake_pred_statuses, \n",
    "                                 target_names = label_names,\n",
    "                                 output_dict = True)\n",
    "# classreport_df = pd.DataFrame.from_dict(class_report_dict).transpose()\n",
    "class_report_df = pd.DataFrame.from_dict(class_report_dict)\n",
    "print(class_report_dict)\n",
    "class_report_df\n",
    "# cr_path = data + '-classreport.csv'\n",
    "# classreport_df.to_csv(cr_path, index=False)\n",
    "\n",
    "## **accuracy does not change, applies for all, .transpose() is not adding values "
   ]
  },
  {
   "cell_type": "code",
   "execution_count": null,
   "id": "3219e065",
   "metadata": {},
   "outputs": [],
   "source": []
  }
 ],
 "metadata": {
  "kernelspec": {
   "display_name": "Python 3 (ipykernel)",
   "language": "python",
   "name": "python3"
  },
  "language_info": {
   "codemirror_mode": {
    "name": "ipython",
    "version": 3
   },
   "file_extension": ".py",
   "mimetype": "text/x-python",
   "name": "python",
   "nbconvert_exporter": "python",
   "pygments_lexer": "ipython3",
   "version": "3.9.6"
  }
 },
 "nbformat": 4,
 "nbformat_minor": 5
}
