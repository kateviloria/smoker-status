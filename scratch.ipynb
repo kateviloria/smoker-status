{
 "cells": [
  {
   "cell_type": "code",
   "execution_count": 1,
   "id": "478f9c13",
   "metadata": {},
   "outputs": [],
   "source": [
    "# baby tests\n",
    "\n",
    "import pandas as pd\n"
   ]
  },
  {
   "cell_type": "code",
   "execution_count": 2,
   "id": "1ee66c7f",
   "metadata": {},
   "outputs": [],
   "source": [
    "smoker_data_df = pd.read_csv('smoker_status.csv')  "
   ]
  },
  {
   "cell_type": "code",
   "execution_count": 7,
   "id": "8ba23467",
   "metadata": {},
   "outputs": [],
   "source": [
    "# get gold labels\n",
    "smoker_gold =  dict(zip(smoker_data_df.row_id, smoker_data_df.status))"
   ]
  },
  {
   "cell_type": "code",
   "execution_count": 13,
   "id": "699170fa",
   "metadata": {
    "scrolled": true
   },
   "outputs": [
    {
     "name": "stdout",
     "output_type": "stream",
     "text": [
      "11911 type: <class 'int'>\n",
      "Unknown type:  <class 'str'>\n"
     ]
    }
   ],
   "source": [
    "# check types of key and value\n",
    "key1 = list(smoker_gold.keys())[0]\n",
    "print(key1, 'type:', type(key1))\n",
    "\n",
    "value1 = smoker_gold[key1]\n",
    "print(value1, 'type: ', type(value1))"
   ]
  },
  {
   "cell_type": "code",
   "execution_count": 18,
   "id": "5d225438",
   "metadata": {},
   "outputs": [],
   "source": [
    "# smoker_gold"
   ]
  },
  {
   "cell_type": "code",
   "execution_count": 19,
   "id": "74087fea",
   "metadata": {},
   "outputs": [],
   "source": [
    "# for validating keys (patient identifiers) are the same order\n",
    "gold_patients = list(smoker_gold.keys())\n",
    "gold_statuses = list(smoker_gold.values())"
   ]
  },
  {
   "cell_type": "code",
   "execution_count": 25,
   "id": "5b68a1ff",
   "metadata": {},
   "outputs": [],
   "source": [
    "fake_pred_patients = [11911,  5853,  5366,  36155,  19896,  5377,  46361,  12798,  47211,  10377,  34014,  29676,  \n",
    "                      42884,  14238,  4053,  32565,  30698,  31431,  6838,  36898,  23341,  6644,  17708,  53596,  \n",
    "                      20403,  7256,  46701,  1030,  21910,  49089,  34464,  24790,  32978,  33349,  25411,  51000,  \n",
    "                      18687,  29869,  51692,  50867,  52244,  2629,  15564,  29718,  12663,  26743,  50129,  49710,  \n",
    "                      35305,  2900,  20173,  45881,  35495,  23216,  20796,  41523,  58482,  29654,  51831,  32750,  \n",
    "                      6698,  30870,  4547,  47290,  43336,  3117,  19217,  12516,  37035,  13774] \n",
    "                        # last number changed from 7 to 4"
   ]
  },
  {
   "cell_type": "code",
   "execution_count": 26,
   "id": "8b744f25",
   "metadata": {},
   "outputs": [
    {
     "ename": "AssertionError",
     "evalue": "Patient identifier lists are not identical.",
     "output_type": "error",
     "traceback": [
      "\u001b[0;31m---------------------------------------------------------------------------\u001b[0m",
      "\u001b[0;31mAssertionError\u001b[0m                            Traceback (most recent call last)",
      "\u001b[0;32m/tmp/ipykernel_3771282/3814601446.py\u001b[0m in \u001b[0;36m<module>\u001b[0;34m\u001b[0m\n\u001b[0;32m----> 1\u001b[0;31m \u001b[0;32massert\u001b[0m \u001b[0mgold_patients\u001b[0m \u001b[0;34m==\u001b[0m \u001b[0mfake_pred_patients\u001b[0m\u001b[0;34m,\u001b[0m \u001b[0;34m'Patient identifier lists are not identical.'\u001b[0m\u001b[0;34m\u001b[0m\u001b[0;34m\u001b[0m\u001b[0m\n\u001b[0m",
      "\u001b[0;31mAssertionError\u001b[0m: Patient identifier lists are not identical."
     ]
    }
   ],
   "source": [
    "assert gold_patients == fake_pred_patients, 'Patient identifier lists are not identical.' "
   ]
  },
  {
   "cell_type": "code",
   "execution_count": 27,
   "id": "8139d975",
   "metadata": {},
   "outputs": [
    {
     "data": {
      "text/plain": [
       "['Unknown',\n",
       " 'Former Smoker',\n",
       " 'Former Smoker',\n",
       " 'Former Smoker',\n",
       " 'Unknown',\n",
       " 'Smoker',\n",
       " 'Smoker',\n",
       " 'Smoker',\n",
       " 'Smoker',\n",
       " 'Smoker',\n",
       " 'Smoker',\n",
       " 'Former Smoker',\n",
       " 'Former Smoker',\n",
       " 'Smoker',\n",
       " 'Smoker',\n",
       " 'Non Smoker',\n",
       " 'Non Smoker',\n",
       " 'Unknown',\n",
       " 'Former Smoker',\n",
       " 'Former Smoker',\n",
       " 'Smoker',\n",
       " 'Smoker',\n",
       " 'Former Smoker',\n",
       " 'Former Smoker',\n",
       " 'Smoker',\n",
       " 'Former Smoker',\n",
       " 'Former Smoker',\n",
       " 'Non Smoker',\n",
       " 'Unknown',\n",
       " 'Smoker',\n",
       " 'Smoker',\n",
       " 'Smoker',\n",
       " 'Unknown',\n",
       " 'Former Smoker',\n",
       " 'Unknown',\n",
       " 'Former Smoker',\n",
       " 'Former Smoker',\n",
       " 'Non Smoker',\n",
       " 'Non Smoker',\n",
       " 'Former Smoker',\n",
       " 'Former Smoker',\n",
       " 'Smoker',\n",
       " 'Former Smoker',\n",
       " 'Former Smoker',\n",
       " 'Smoker',\n",
       " 'Non Smoker',\n",
       " 'Smoker',\n",
       " 'Former Smoker',\n",
       " 'Former Smoker',\n",
       " 'Former Smoker',\n",
       " 'Smoker',\n",
       " 'Smoker',\n",
       " 'Smoker',\n",
       " 'Smoker',\n",
       " 'Former Smoker',\n",
       " 'Non Smoker',\n",
       " 'Former Smoker',\n",
       " 'Smoker',\n",
       " 'Former Smoker',\n",
       " 'Unknown',\n",
       " 'Former Smoker',\n",
       " 'Unknown',\n",
       " 'Smoker',\n",
       " 'Former Smoker',\n",
       " 'Smoker',\n",
       " 'Non Smoker',\n",
       " 'Smoker',\n",
       " 'Unknown',\n",
       " 'Smoker',\n",
       " 'Former Smoker']"
      ]
     },
     "execution_count": 27,
     "metadata": {},
     "output_type": "execute_result"
    }
   ],
   "source": [
    "fake_pred_statuses = ['Unknown',  'Former Smoker',  'Former Smoker',  'Former Smoker',  'Unknown',  'Smoker',  \n",
    "                      'Smoker',  'Smoker',  'Smoker',  'Smoker',  'Smoker',  'Former Smoker',  'Former Smoker',  \n",
    "                      'Smoker',  'Smoker',  'Non Smoker',  'Non Smoker',  'Unknown',  'Former Smoker',  \n",
    "                      'Former Smoker',  'Smoker',  'Smoker',  'Former Smoker',  'Former Smoker',  'Smoker',  \n",
    "                      'Former Smoker',  'Former Smoker',  'Non Smoker',  'Unknown',  'Smoker',  'Smoker',  \n",
    "                      'Smoker',  'Unknown',  'Former Smoker',  'Unknown',  'Former Smoker',  'Former Smoker',  \n",
    "                      'Non Smoker',  'Non Smoker',  'Former Smoker',  'Former Smoker',  'Smoker',  'Former Smoker',  \n",
    "                      'Former Smoker',  'Smoker',  'Non Smoker',  'Smoker',  'Former Smoker',  'Former Smoker',  \n",
    "                      'Former Smoker',  'Smoker',  'Smoker',  'Smoker',  'Smoker',  'Former Smoker',  \n",
    "                      'Non Smoker',  'Former Smoker',  'Smoker',  'Former Smoker',  'Unknown',  'Former Smoker',  \n",
    "                      'Unknown', 'Smoker',  'Former Smoker',  'Smoker',  'Non Smoker',  'Smoker',  'Unknown',  \n",
    "                      'Smoker', 'Former Smoker']"
   ]
  },
  {
   "cell_type": "code",
   "execution_count": null,
   "id": "86057283",
   "metadata": {},
   "outputs": [],
   "source": []
  }
 ],
 "metadata": {
  "kernelspec": {
   "display_name": "Python 3 (ipykernel)",
   "language": "python",
   "name": "python3"
  },
  "language_info": {
   "codemirror_mode": {
    "name": "ipython",
    "version": 3
   },
   "file_extension": ".py",
   "mimetype": "text/x-python",
   "name": "python",
   "nbconvert_exporter": "python",
   "pygments_lexer": "ipython3",
   "version": "3.9.6"
  }
 },
 "nbformat": 4,
 "nbformat_minor": 5
}
